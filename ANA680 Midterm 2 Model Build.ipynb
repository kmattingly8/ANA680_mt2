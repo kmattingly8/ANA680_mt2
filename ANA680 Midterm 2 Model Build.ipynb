{
 "cells": [
  {
   "cell_type": "code",
   "execution_count": 1,
   "id": "24f59f62-4113-41ea-84fa-80dcb5b57970",
   "metadata": {},
   "outputs": [
    {
     "name": "stdout",
     "output_type": "stream",
     "text": [
      "Warning: Looks like you're using an outdated `kagglehub` version (installed: 0.3.6), please consider upgrading to the latest version (0.3.8).\n",
      "Downloading from https://www.kaggle.com/api/v1/datasets/download/spscientist/students-performance-in-exams?dataset_version_number=1...\n"
     ]
    },
    {
     "name": "stderr",
     "output_type": "stream",
     "text": [
      "100%|██████████████████████████████████████| 8.70k/8.70k [00:00<00:00, 2.17MB/s]"
     ]
    },
    {
     "name": "stdout",
     "output_type": "stream",
     "text": [
      "Extracting files...\n"
     ]
    },
    {
     "name": "stderr",
     "output_type": "stream",
     "text": [
      "\n"
     ]
    },
    {
     "name": "stdout",
     "output_type": "stream",
     "text": [
      "Path to dataset files: /Users/kirsten/.cache/kagglehub/datasets/spscientist/students-performance-in-exams/versions/1\n"
     ]
    }
   ],
   "source": [
    "import kagglehub\n",
    "\n",
    "# Download latest version\n",
    "path = kagglehub.dataset_download(\"spscientist/students-performance-in-exams\")\n",
    "\n",
    "print(\"Path to dataset files:\", path)"
   ]
  },
  {
   "cell_type": "code",
   "execution_count": 2,
   "id": "e3ebd19a-a622-4d39-b925-2c7506afc54e",
   "metadata": {},
   "outputs": [],
   "source": [
    "import pandas as pd\n",
    "\n",
    "# Load data\n",
    "df = pd.read_csv('/Users/kirsten/.cache/kagglehub/datasets/spscientist/students-performance-in-exams/versions/1/StudentsPerformance.csv')"
   ]
  },
  {
   "cell_type": "code",
   "execution_count": 3,
   "id": "61de52da-dd92-4ec5-81d0-a80781a623a8",
   "metadata": {},
   "outputs": [
    {
     "data": {
      "text/plain": [
       "(1000, 8)"
      ]
     },
     "execution_count": 3,
     "metadata": {},
     "output_type": "execute_result"
    }
   ],
   "source": [
    "# Explore dataset\n",
    "df.shape"
   ]
  },
  {
   "cell_type": "code",
   "execution_count": 4,
   "id": "977f36b5-35f7-4d1c-bc90-f2d852555cc6",
   "metadata": {},
   "outputs": [
    {
     "data": {
      "text/html": [
       "<div>\n",
       "<style scoped>\n",
       "    .dataframe tbody tr th:only-of-type {\n",
       "        vertical-align: middle;\n",
       "    }\n",
       "\n",
       "    .dataframe tbody tr th {\n",
       "        vertical-align: top;\n",
       "    }\n",
       "\n",
       "    .dataframe thead th {\n",
       "        text-align: right;\n",
       "    }\n",
       "</style>\n",
       "<table border=\"1\" class=\"dataframe\">\n",
       "  <thead>\n",
       "    <tr style=\"text-align: right;\">\n",
       "      <th></th>\n",
       "      <th>gender</th>\n",
       "      <th>race/ethnicity</th>\n",
       "      <th>parental level of education</th>\n",
       "      <th>lunch</th>\n",
       "      <th>test preparation course</th>\n",
       "      <th>math score</th>\n",
       "      <th>reading score</th>\n",
       "      <th>writing score</th>\n",
       "    </tr>\n",
       "  </thead>\n",
       "  <tbody>\n",
       "    <tr>\n",
       "      <th>0</th>\n",
       "      <td>female</td>\n",
       "      <td>group B</td>\n",
       "      <td>bachelor's degree</td>\n",
       "      <td>standard</td>\n",
       "      <td>none</td>\n",
       "      <td>72</td>\n",
       "      <td>72</td>\n",
       "      <td>74</td>\n",
       "    </tr>\n",
       "    <tr>\n",
       "      <th>1</th>\n",
       "      <td>female</td>\n",
       "      <td>group C</td>\n",
       "      <td>some college</td>\n",
       "      <td>standard</td>\n",
       "      <td>completed</td>\n",
       "      <td>69</td>\n",
       "      <td>90</td>\n",
       "      <td>88</td>\n",
       "    </tr>\n",
       "    <tr>\n",
       "      <th>2</th>\n",
       "      <td>female</td>\n",
       "      <td>group B</td>\n",
       "      <td>master's degree</td>\n",
       "      <td>standard</td>\n",
       "      <td>none</td>\n",
       "      <td>90</td>\n",
       "      <td>95</td>\n",
       "      <td>93</td>\n",
       "    </tr>\n",
       "    <tr>\n",
       "      <th>3</th>\n",
       "      <td>male</td>\n",
       "      <td>group A</td>\n",
       "      <td>associate's degree</td>\n",
       "      <td>free/reduced</td>\n",
       "      <td>none</td>\n",
       "      <td>47</td>\n",
       "      <td>57</td>\n",
       "      <td>44</td>\n",
       "    </tr>\n",
       "    <tr>\n",
       "      <th>4</th>\n",
       "      <td>male</td>\n",
       "      <td>group C</td>\n",
       "      <td>some college</td>\n",
       "      <td>standard</td>\n",
       "      <td>none</td>\n",
       "      <td>76</td>\n",
       "      <td>78</td>\n",
       "      <td>75</td>\n",
       "    </tr>\n",
       "  </tbody>\n",
       "</table>\n",
       "</div>"
      ],
      "text/plain": [
       "   gender race/ethnicity parental level of education         lunch  \\\n",
       "0  female        group B           bachelor's degree      standard   \n",
       "1  female        group C                some college      standard   \n",
       "2  female        group B             master's degree      standard   \n",
       "3    male        group A          associate's degree  free/reduced   \n",
       "4    male        group C                some college      standard   \n",
       "\n",
       "  test preparation course  math score  reading score  writing score  \n",
       "0                    none          72             72             74  \n",
       "1               completed          69             90             88  \n",
       "2                    none          90             95             93  \n",
       "3                    none          47             57             44  \n",
       "4                    none          76             78             75  "
      ]
     },
     "execution_count": 4,
     "metadata": {},
     "output_type": "execute_result"
    }
   ],
   "source": [
    "df.head()"
   ]
  },
  {
   "cell_type": "code",
   "execution_count": 5,
   "id": "f88d7e36-d6a2-47a3-9b8a-3688605b7e1b",
   "metadata": {},
   "outputs": [
    {
     "name": "stdout",
     "output_type": "stream",
     "text": [
      "<class 'pandas.core.frame.DataFrame'>\n",
      "RangeIndex: 1000 entries, 0 to 999\n",
      "Data columns (total 8 columns):\n",
      " #   Column                       Non-Null Count  Dtype \n",
      "---  ------                       --------------  ----- \n",
      " 0   gender                       1000 non-null   object\n",
      " 1   race/ethnicity               1000 non-null   object\n",
      " 2   parental level of education  1000 non-null   object\n",
      " 3   lunch                        1000 non-null   object\n",
      " 4   test preparation course      1000 non-null   object\n",
      " 5   math score                   1000 non-null   int64 \n",
      " 6   reading score                1000 non-null   int64 \n",
      " 7   writing score                1000 non-null   int64 \n",
      "dtypes: int64(3), object(5)\n",
      "memory usage: 62.6+ KB\n"
     ]
    }
   ],
   "source": [
    "df.info()"
   ]
  },
  {
   "cell_type": "code",
   "execution_count": 6,
   "id": "4057a81b-47f2-4d02-9140-329c10662931",
   "metadata": {},
   "outputs": [
    {
     "data": {
      "text/html": [
       "<div>\n",
       "<style scoped>\n",
       "    .dataframe tbody tr th:only-of-type {\n",
       "        vertical-align: middle;\n",
       "    }\n",
       "\n",
       "    .dataframe tbody tr th {\n",
       "        vertical-align: top;\n",
       "    }\n",
       "\n",
       "    .dataframe thead th {\n",
       "        text-align: right;\n",
       "    }\n",
       "</style>\n",
       "<table border=\"1\" class=\"dataframe\">\n",
       "  <thead>\n",
       "    <tr style=\"text-align: right;\">\n",
       "      <th></th>\n",
       "      <th>math score</th>\n",
       "      <th>reading score</th>\n",
       "      <th>writing score</th>\n",
       "    </tr>\n",
       "  </thead>\n",
       "  <tbody>\n",
       "    <tr>\n",
       "      <th>count</th>\n",
       "      <td>1000.00000</td>\n",
       "      <td>1000.000000</td>\n",
       "      <td>1000.000000</td>\n",
       "    </tr>\n",
       "    <tr>\n",
       "      <th>mean</th>\n",
       "      <td>66.08900</td>\n",
       "      <td>69.169000</td>\n",
       "      <td>68.054000</td>\n",
       "    </tr>\n",
       "    <tr>\n",
       "      <th>std</th>\n",
       "      <td>15.16308</td>\n",
       "      <td>14.600192</td>\n",
       "      <td>15.195657</td>\n",
       "    </tr>\n",
       "    <tr>\n",
       "      <th>min</th>\n",
       "      <td>0.00000</td>\n",
       "      <td>17.000000</td>\n",
       "      <td>10.000000</td>\n",
       "    </tr>\n",
       "    <tr>\n",
       "      <th>25%</th>\n",
       "      <td>57.00000</td>\n",
       "      <td>59.000000</td>\n",
       "      <td>57.750000</td>\n",
       "    </tr>\n",
       "    <tr>\n",
       "      <th>50%</th>\n",
       "      <td>66.00000</td>\n",
       "      <td>70.000000</td>\n",
       "      <td>69.000000</td>\n",
       "    </tr>\n",
       "    <tr>\n",
       "      <th>75%</th>\n",
       "      <td>77.00000</td>\n",
       "      <td>79.000000</td>\n",
       "      <td>79.000000</td>\n",
       "    </tr>\n",
       "    <tr>\n",
       "      <th>max</th>\n",
       "      <td>100.00000</td>\n",
       "      <td>100.000000</td>\n",
       "      <td>100.000000</td>\n",
       "    </tr>\n",
       "  </tbody>\n",
       "</table>\n",
       "</div>"
      ],
      "text/plain": [
       "       math score  reading score  writing score\n",
       "count  1000.00000    1000.000000    1000.000000\n",
       "mean     66.08900      69.169000      68.054000\n",
       "std      15.16308      14.600192      15.195657\n",
       "min       0.00000      17.000000      10.000000\n",
       "25%      57.00000      59.000000      57.750000\n",
       "50%      66.00000      70.000000      69.000000\n",
       "75%      77.00000      79.000000      79.000000\n",
       "max     100.00000     100.000000     100.000000"
      ]
     },
     "execution_count": 6,
     "metadata": {},
     "output_type": "execute_result"
    }
   ],
   "source": [
    "# Explore values of Numeric Variables\n",
    "\n",
    "df.describe()"
   ]
  },
  {
   "cell_type": "code",
   "execution_count": 7,
   "id": "b153f6c3-c20d-4df6-a8b6-49f5eb06b303",
   "metadata": {},
   "outputs": [
    {
     "data": {
      "text/plain": [
       "gender                         0\n",
       "race/ethnicity                 0\n",
       "parental level of education    0\n",
       "lunch                          0\n",
       "test preparation course        0\n",
       "math score                     0\n",
       "reading score                  0\n",
       "writing score                  0\n",
       "dtype: int64"
      ]
     },
     "execution_count": 7,
     "metadata": {},
     "output_type": "execute_result"
    }
   ],
   "source": [
    "# Check for other missing values.\n",
    "\n",
    "df.isnull().sum()"
   ]
  },
  {
   "cell_type": "code",
   "execution_count": 8,
   "id": "fca1123d-160d-4073-bb9b-0c6036aa7a7e",
   "metadata": {},
   "outputs": [
    {
     "name": "stdout",
     "output_type": "stream",
     "text": [
      "\n",
      " gender\n",
      "female    518\n",
      "male      482\n",
      "\n",
      " race/ethnicity\n",
      "group C    319\n",
      "group D    262\n",
      "group B    190\n",
      "group E    140\n",
      "group A     89\n",
      "\n",
      " parental level of education\n",
      "some college          226\n",
      "associate's degree    222\n",
      "high school           196\n",
      "some high school      179\n",
      "bachelor's degree     118\n",
      "master's degree        59\n",
      "\n",
      " lunch\n",
      "standard        645\n",
      "free/reduced    355\n",
      "\n",
      " test preparation course\n",
      "none         642\n",
      "completed    358\n"
     ]
    }
   ],
   "source": [
    "# Explore values of Categorical Variables\n",
    "\n",
    "num_vars = ['math score', 'reading score', 'writing score']\n",
    "df_cat = df.drop(num_vars, axis = 1)\n",
    "for col in list(df_cat):\n",
    "  print(\"\\n\", df_cat[col].value_counts(dropna=False).to_string())"
   ]
  },
  {
   "cell_type": "code",
   "execution_count": 10,
   "id": "e64fb7ef-c540-41c3-8d8b-0cbeecc93e93",
   "metadata": {},
   "outputs": [
    {
     "data": {
      "text/plain": [
       "(1000, 4)"
      ]
     },
     "execution_count": 10,
     "metadata": {},
     "output_type": "execute_result"
    }
   ],
   "source": [
    "# Per Midterm Instructions: predict race/ethnicity of the student from the math, reading and writing scores.\n",
    "\n",
    "# target variable = 'race/ethnicity'\n",
    "# predictor variables = 'math score', 'reading score', 'writing score'\n",
    "\n",
    "# drop other variables from df for purpose of this model\n",
    "\n",
    "df_filt = df.drop(['gender', 'parental level of education', 'lunch', 'test preparation course'], axis = 1)\n",
    "df_filt.shape"
   ]
  },
  {
   "cell_type": "code",
   "execution_count": 11,
   "id": "8dd8c205-e7a5-4888-b04e-d3e8eb400404",
   "metadata": {},
   "outputs": [
    {
     "data": {
      "text/html": [
       "<div>\n",
       "<style scoped>\n",
       "    .dataframe tbody tr th:only-of-type {\n",
       "        vertical-align: middle;\n",
       "    }\n",
       "\n",
       "    .dataframe tbody tr th {\n",
       "        vertical-align: top;\n",
       "    }\n",
       "\n",
       "    .dataframe thead th {\n",
       "        text-align: right;\n",
       "    }\n",
       "</style>\n",
       "<table border=\"1\" class=\"dataframe\">\n",
       "  <thead>\n",
       "    <tr style=\"text-align: right;\">\n",
       "      <th></th>\n",
       "      <th>race/ethnicity</th>\n",
       "      <th>math score</th>\n",
       "      <th>reading score</th>\n",
       "      <th>writing score</th>\n",
       "    </tr>\n",
       "  </thead>\n",
       "  <tbody>\n",
       "    <tr>\n",
       "      <th>0</th>\n",
       "      <td>group B</td>\n",
       "      <td>72</td>\n",
       "      <td>72</td>\n",
       "      <td>74</td>\n",
       "    </tr>\n",
       "    <tr>\n",
       "      <th>1</th>\n",
       "      <td>group C</td>\n",
       "      <td>69</td>\n",
       "      <td>90</td>\n",
       "      <td>88</td>\n",
       "    </tr>\n",
       "    <tr>\n",
       "      <th>2</th>\n",
       "      <td>group B</td>\n",
       "      <td>90</td>\n",
       "      <td>95</td>\n",
       "      <td>93</td>\n",
       "    </tr>\n",
       "    <tr>\n",
       "      <th>3</th>\n",
       "      <td>group A</td>\n",
       "      <td>47</td>\n",
       "      <td>57</td>\n",
       "      <td>44</td>\n",
       "    </tr>\n",
       "    <tr>\n",
       "      <th>4</th>\n",
       "      <td>group C</td>\n",
       "      <td>76</td>\n",
       "      <td>78</td>\n",
       "      <td>75</td>\n",
       "    </tr>\n",
       "  </tbody>\n",
       "</table>\n",
       "</div>"
      ],
      "text/plain": [
       "  race/ethnicity  math score  reading score  writing score\n",
       "0        group B          72             72             74\n",
       "1        group C          69             90             88\n",
       "2        group B          90             95             93\n",
       "3        group A          47             57             44\n",
       "4        group C          76             78             75"
      ]
     },
     "execution_count": 11,
     "metadata": {},
     "output_type": "execute_result"
    }
   ],
   "source": [
    "df_filt.head()"
   ]
  },
  {
   "cell_type": "code",
   "execution_count": 13,
   "id": "b8907fad-b242-400d-9690-480d5c85ba3e",
   "metadata": {},
   "outputs": [
    {
     "data": {
      "text/plain": [
       "array([[<Axes: title={'center': 'math score'}>,\n",
       "        <Axes: title={'center': 'reading score'}>],\n",
       "       [<Axes: title={'center': 'writing score'}>, <Axes: >]],\n",
       "      dtype=object)"
      ]
     },
     "execution_count": 13,
     "metadata": {},
     "output_type": "execute_result"
    },
    {
     "data": {
      "image/png": "[encoded data removed]",
      "text/plain": [
       "<Figure size 1500x1500 with 4 Axes>"
      ]
     },
     "metadata": {},
     "output_type": "display_data"
    }
   ],
   "source": [
    "# histograms to show numeric variables distributions\n",
    "df_filt.hist(bins=20, figsize=(15, 15))"
   ]
  },
  {
   "cell_type": "code",
   "execution_count": 14,
   "id": "7af0dec9-ac03-4ab1-975d-496b046658fa",
   "metadata": {},
   "outputs": [
    {
     "name": "stdout",
     "output_type": "stream",
     "text": [
      "X_train.shape:  (750, 3)\n",
      "y_train.shape:  (750,)\n",
      "X_test.shape:  (250, 3)\n",
      "y_test.shape:  (250,)\n"
     ]
    }
   ],
   "source": [
    "# Split Dataset into Features and Target Sets\n",
    "\n",
    "X = df_filt.drop(columns = ['race/ethnicity'])\n",
    "y = df_filt['race/ethnicity'].values\n",
    "\n",
    "\n",
    "# Split Dataset into Train/Test Splits stratifying according to target variable (to ensure similar levels of churn in training vs. testing)\n",
    "\n",
    "from sklearn.model_selection import train_test_split\n",
    "\n",
    "X_train, X_test, y_train, y_test = train_test_split(X,y,test_size = 0.25, random_state = 88, stratify=y)\n",
    "\n",
    "print(\"X_train.shape: \", X_train.shape)\n",
    "print(\"y_train.shape: \", y_train.shape)\n",
    "print(\"X_test.shape: \", X_test.shape)\n",
    "print(\"y_test.shape: \", y_test.shape)"
   ]
  },
  {
   "cell_type": "code",
   "execution_count": 15,
   "id": "33080967-56ce-46dd-9899-3c669b463ea4",
   "metadata": {},
   "outputs": [
    {
     "name": "stdout",
     "output_type": "stream",
     "text": [
      "Best Parameters: {'criterion': 'entropy', 'max_depth': 3, 'min_samples_leaf': 1, 'min_samples_split': 2}\n",
      "Best Cross-Validation Accuracy: 0.32799999999999996\n"
     ]
    }
   ],
   "source": [
    "# Build Machine Learning Model: Decision Tree\n",
    "\n",
    "from sklearn.model_selection import train_test_split, GridSearchCV\n",
    "from sklearn.preprocessing import LabelEncoder\n",
    "from sklearn.tree import DecisionTreeClassifier\n",
    "from sklearn.metrics import classification_report, confusion_matrix, accuracy_score,roc_curve,roc_auc_score\n",
    "from sklearn import tree\n",
    "import matplotlib.pyplot as plt\n",
    "import seaborn as sns\n",
    "\n",
    "# Use GridSearch to find the best parameters in order to fine-tune the Decision Tree \n",
    "\n",
    "# Define the parameter grid\n",
    "param_grid = {\n",
    "    'max_depth': [3, 5, 7, 10, 15, 20],\n",
    "    'min_samples_split': [2, 5, 10, 20],\n",
    "    'min_samples_leaf': [1, 2, 4, 6],\n",
    "    'criterion': ['gini', 'entropy']\n",
    "}\n",
    "\n",
    "# Initialize GridSearchCV\n",
    "grid_search = GridSearchCV(DecisionTreeClassifier(random_state=42), param_grid, cv=5, scoring='accuracy')\n",
    "\n",
    "# Fit the model\n",
    "grid_search.fit(X_train, y_train)\n",
    "\n",
    "# Best parameters and best score\n",
    "print(\"Best Parameters:\", grid_search.best_params_)\n",
    "print(\"Best Cross-Validation Accuracy:\", grid_search.best_score_)\n",
    "\n",
    "# Use the best model\n",
    "best_dt_model = grid_search.best_estimator_"
   ]
  },
  {
   "cell_type": "code",
   "execution_count": 25,
   "id": "dd555e2f-2a28-447f-a1bb-cecef59f90d8",
   "metadata": {},
   "outputs": [
    {
     "name": "stdout",
     "output_type": "stream",
     "text": [
      "Decision Tree Accuracy: 0.352\n"
     ]
    }
   ],
   "source": [
    "from sklearn.tree import DecisionTreeClassifier\n",
    "\n",
    "# Define the model with the best parameters\n",
    "best_params = {\n",
    "    'criterion': 'entropy', \n",
    "    'max_depth': 3, \n",
    "    'min_samples_leaf': 1, \n",
    "    'min_samples_split': 2\n",
    "}\n",
    "\n",
    "# Create the decision tree classifier with the best parameters\n",
    "dt_model = DecisionTreeClassifier(**best_params)\n",
    "\n",
    "# Fit the model to your data (X_train and y_train should be your feature matrix and labels)\n",
    "dt_model.fit(X_train, y_train)\n",
    "\n",
    "# Now you can make predictions or evaluate the model\n",
    "y_pred = dt_model.predict(X_test)\n",
    "\n",
    "# If you want to check the accuracy of the model\n",
    "from sklearn.metrics import accuracy_score\n",
    "dt_accuracy = accuracy_score(y_test, y_pred)\n",
    "print(f\"Decision Tree Accuracy: {dt_accuracy}\")"
   ]
  },
  {
   "cell_type": "code",
   "execution_count": 26,
   "id": "ac0d6517-c88d-447d-9087-93a1ed54c9f1",
   "metadata": {},
   "outputs": [
    {
     "name": "stdout",
     "output_type": "stream",
     "text": [
      "Random Forest Accuracy: 0.292\n",
      "Random Forest Confusion Matrix:\n",
      "[[ 1  9  8  3  1]\n",
      " [ 2 13 14 14  5]\n",
      " [ 7 14 29 27  3]\n",
      " [ 3 10 24 23  5]\n",
      " [ 1  8 11  8  7]]\n"
     ]
    }
   ],
   "source": [
    "# Train a Random Forest Model to see if it has higher accuracy\n",
    "\n",
    "from sklearn.ensemble import RandomForestClassifier\n",
    "\n",
    "# Initialize the Model\n",
    "rf = RandomForestClassifier(n_estimators=10, random_state=88)\n",
    "\n",
    "# Train the Model\n",
    "rf.fit(X_train, y_train)\n",
    "\n",
    "# Use Model to Make Predictions on Test Set\n",
    "y_pred = rf.predict(X_test)\n",
    "\n",
    "# Evaluate the model\n",
    "rf_accuracy = accuracy_score(y_test, y_pred)\n",
    "rf_conf_matrix = confusion_matrix(y_test, y_pred)\n",
    "\n",
    "# Print results\n",
    "print(f\"Random Forest Accuracy: {rf_accuracy}\")\n",
    "print(f\"Random Forest Confusion Matrix:\\n{rf_conf_matrix}\")"
   ]
  },
  {
   "cell_type": "code",
   "execution_count": 27,
   "id": "2d59fe05-8b31-40fe-b7c5-34378866345e",
   "metadata": {},
   "outputs": [
    {
     "name": "stdout",
     "output_type": "stream",
     "text": [
      "RBF SVM Accuracy: 0.364\n",
      "RBF SVM Confusion Matrix:\n",
      "[[ 0  0 19  3  0]\n",
      " [ 0  0 41  3  4]\n",
      " [ 0  0 71  7  2]\n",
      " [ 0  0 48 13  4]\n",
      " [ 0  0 19  9  7]]\n"
     ]
    }
   ],
   "source": [
    "# Train a RBF SVM Model to see if it has higher accuracy\n",
    "\n",
    "from sklearn.svm import SVC\n",
    "\n",
    "# Initialize the Model\n",
    "svmrbf = SVC(kernel='rbf', gamma='scale')\n",
    "\n",
    "# Train the Model\n",
    "svmrbf.fit(X_train, y_train)\n",
    "\n",
    "# Use Model to Make Predictions on Test Set\n",
    "y_pred = svmrbf.predict(X_test)\n",
    "\n",
    "# Evaluate the model\n",
    "rbf_accuracy = accuracy_score(y_test, y_pred)\n",
    "rbf_conf_matrix = confusion_matrix(y_test, y_pred)\n",
    "\n",
    "# Print results\n",
    "print(f\"RBF SVM Accuracy: {rbf_accuracy}\")\n",
    "print(f\"RBF SVM Confusion Matrix:\\n{rbf_conf_matrix}\")"
   ]
  },
  {
   "cell_type": "code",
   "execution_count": 28,
   "id": "ca590c8b-352c-4a83-9000-ecb35a4cccf9",
   "metadata": {},
   "outputs": [
    {
     "name": "stdout",
     "output_type": "stream",
     "text": [
      "Linear SVM Accuracy: 0.316\n",
      "Linear SVM Confusion Matrix:\n",
      "[[ 0  0 19  3  0]\n",
      " [ 0  0 40  8  0]\n",
      " [ 0  0 62 18  0]\n",
      " [ 0  0 48 17  0]\n",
      " [ 0  0 26  9  0]]\n"
     ]
    }
   ],
   "source": [
    "# Train a Linear SVM Model to see if it has higher accuracy\n",
    "\n",
    "from sklearn.svm import SVC\n",
    "\n",
    "# Initialize the Model\n",
    "svmlin = SVC(kernel='linear')\n",
    "\n",
    "# Train the Model\n",
    "svmlin.fit(X_train, y_train)\n",
    "\n",
    "# Use Model to Make Predictions on Test Set\n",
    "y_pred = svmlin.predict(X_test)\n",
    "\n",
    "# Evaluate the model\n",
    "lin_accuracy = accuracy_score(y_test, y_pred)\n",
    "lin_conf_matrix = confusion_matrix(y_test, y_pred)\n",
    "\n",
    "# Print results\n",
    "print(f\"Linear SVM Accuracy: {lin_accuracy}\")\n",
    "print(f\"Linear SVM Confusion Matrix:\\n{lin_conf_matrix}\")"
   ]
  },
  {
   "cell_type": "code",
   "execution_count": 29,
   "id": "5c3bb3a1-ecad-4721-a91f-2a90ae814a49",
   "metadata": {},
   "outputs": [
    {
     "name": "stdout",
     "output_type": "stream",
     "text": [
      "KNN Accuracy: 0.248\n",
      "KNN Confusion Matrix:\n",
      "[[ 2  4 11  5  0]\n",
      " [ 2 13 19  7  7]\n",
      " [ 5 22 31 20  2]\n",
      " [ 8  9 25 13 10]\n",
      " [ 2 10 13  7  3]]\n"
     ]
    }
   ],
   "source": [
    "# Train a KNN Model to see if it has higher accuracy\n",
    "\n",
    "from sklearn.neighbors import KNeighborsClassifier\n",
    "\n",
    "# Initialize the Model\n",
    "knn = KNeighborsClassifier(n_neighbors=5)\n",
    "\n",
    "# Train the Model\n",
    "knn.fit(X_train, y_train)\n",
    "\n",
    "# Use Model to Make Predictions on Test Set\n",
    "y_pred = knn.predict(X_test)\n",
    "\n",
    "# Evaluate the model\n",
    "knn_accuracy = accuracy_score(y_test, y_pred)\n",
    "knn_conf_matrix = confusion_matrix(y_test, y_pred)\n",
    "\n",
    "# Print results\n",
    "print(f\"KNN Accuracy: {knn_accuracy}\")\n",
    "print(f\"KNN Confusion Matrix:\\n{knn_conf_matrix}\")"
   ]
  },
  {
   "cell_type": "code",
   "execution_count": 30,
   "id": "93149bd6-d6f2-4792-8d44-35945995727f",
   "metadata": {},
   "outputs": [
    {
     "name": "stdout",
     "output_type": "stream",
     "text": [
      "Decision Tree Accuracy: 0.352\n",
      "Random Forest Accuracy: 0.292\n",
      "RBF SVM Accuracy: 0.364\n",
      "Linear SVM Accuracy: 0.316\n",
      "KNN Accuracy: 0.248\n"
     ]
    }
   ],
   "source": [
    "# Compare all model accuracy levels\n",
    "\n",
    "print(f\"Decision Tree Accuracy: {dt_accuracy}\")\n",
    "print(f\"Random Forest Accuracy: {rf_accuracy}\")\n",
    "print(f\"RBF SVM Accuracy: {rbf_accuracy}\")\n",
    "print(f\"Linear SVM Accuracy: {lin_accuracy}\")\n",
    "print(f\"KNN Accuracy: {knn_accuracy}\")"
   ]
  },
  {
   "cell_type": "code",
   "execution_count": 32,
   "id": "f28a7fae-2b1e-4347-aa9c-a12ab3907b73",
   "metadata": {},
   "outputs": [
    {
     "data": {
      "text/plain": [
       "['eth_by_stud_perform.pkl']"
      ]
     },
     "execution_count": 32,
     "metadata": {},
     "output_type": "execute_result"
    }
   ],
   "source": [
    "# Because RBF SVM has highest accuracy out of tested models, move forward with saving and deploying this model\n",
    "\n",
    "# Save Model as a Pickle (.pkl) File\n",
    "\n",
    "import joblib\n",
    "joblib.dump(svmrbf, 'eth_by_stud_perform.pkl')"
   ]
  },
  {
   "cell_type": "code",
   "execution_count": 34,
   "id": "bf12002d-aafb-402d-9179-f8db6a025767",
   "metadata": {},
   "outputs": [
    {
     "name": "stdout",
     "output_type": "stream",
     "text": [
      " * Serving Flask app '__main__'\n",
      " * Debug mode: on\n"
     ]
    },
    {
     "name": "stderr",
     "output_type": "stream",
     "text": [
      "WARNING: This is a development server. Do not use it in a production deployment. Use a production WSGI server instead.\n",
      " * Running on http://127.0.0.1:5000\n",
      "Press CTRL+C to quit\n",
      " * Restarting with watchdog (fsevents)\n",
      "0.01s - Debugger warning: It seems that frozen modules are being used, which may\n",
      "0.00s - make the debugger miss breakpoints. Please pass -Xfrozen_modules=off\n",
      "0.00s - to python to disable frozen modules.\n",
      "0.00s - Note: Debugging will proceed. Set PYDEVD_DISABLE_FILE_VALIDATION=1 to disable this validation.\n",
      "Traceback (most recent call last):\n",
      "  File \"<frozen runpy>\", line 198, in _run_module_as_main\n",
      "  File \"<frozen runpy>\", line 88, in _run_code\n",
      "  File \"/opt/anaconda3/lib/python3.12/site-packages/ipykernel_launcher.py\", line 17, in <module>\n",
      "    app.launch_new_instance()\n",
      "  File \"/opt/anaconda3/lib/python3.12/site-packages/traitlets/config/application.py\", line 1074, in launch_instance\n",
      "    app.initialize(argv)\n",
      "  File \"/opt/anaconda3/lib/python3.12/site-packages/traitlets/config/application.py\", line 118, in inner\n",
      "    return method(app, *args, **kwargs)\n",
      "           ^^^^^^^^^^^^^^^^^^^^^^^^^^^^\n",
      "  File \"/opt/anaconda3/lib/python3.12/site-packages/ipykernel/kernelapp.py\", line 654, in initialize\n",
      "    self.init_sockets()\n",
      "  File \"/opt/anaconda3/lib/python3.12/site-packages/ipykernel/kernelapp.py\", line 331, in init_sockets\n",
      "    self.shell_port = self._bind_socket(self.shell_socket, self.shell_port)\n",
      "                      ^^^^^^^^^^^^^^^^^^^^^^^^^^^^^^^^^^^^^^^^^^^^^^^^^^^^^\n",
      "  File \"/opt/anaconda3/lib/python3.12/site-packages/ipykernel/kernelapp.py\", line 253, in _bind_socket\n",
      "    return self._try_bind_socket(s, port)\n",
      "           ^^^^^^^^^^^^^^^^^^^^^^^^^^^^^^\n",
      "  File \"/opt/anaconda3/lib/python3.12/site-packages/ipykernel/kernelapp.py\", line 229, in _try_bind_socket\n",
      "    s.bind(\"tcp://%s:%i\" % (self.ip, port))\n",
      "  File \"/opt/anaconda3/lib/python3.12/site-packages/zmq/sugar/socket.py\", line 302, in bind\n",
      "    super().bind(addr)\n",
      "  File \"zmq/backend/cython/socket.pyx\", line 564, in zmq.backend.cython.socket.Socket.bind\n",
      "  File \"zmq/backend/cython/checkrc.pxd\", line 28, in zmq.backend.cython.checkrc._check_rc\n",
      "zmq.error.ZMQError: Address already in use (addr='tcp://127.0.0.1:64458')\n"
     ]
    },
    {
     "ename": "SystemExit",
     "evalue": "1",
     "output_type": "error",
     "traceback": [
      "An exception has occurred, use %tb to see the full traceback.\n",
      "\u001b[0;31mSystemExit\u001b[0m\u001b[0;31m:\u001b[0m 1\n"
     ]
    },
    {
     "name": "stderr",
     "output_type": "stream",
     "text": [
      "/opt/anaconda3/lib/python3.12/site-packages/IPython/core/interactiveshell.py:3585: UserWarning: To exit: use 'exit', 'quit', or Ctrl-D.\n",
      "  warn(\"To exit: use 'exit', 'quit', or Ctrl-D.\", stacklevel=1)\n"
     ]
    }
   ],
   "source": [
    "from flask import Flask, render_template, request\n",
    "import joblib\n",
    "import numpy as np\n",
    "\n",
    "# Initialize the Flask app\n",
    "app = Flask(__name__)\n",
    "\n",
    "# Load the trained model (ensure the pickle file is in your project folder)\n",
    "model = joblib.load(\"eth_by_stud_perform.pkl\")\n",
    "\n",
    "@app.route('/')\n",
    "def home():\n",
    "    return render_template('index.html')\n",
    "\n",
    "@app.route('/predict', methods=['POST'])\n",
    "def predict():\n",
    "    # Get the input values from the form\n",
    "    var_1 = float(request.form['math score'])\n",
    "    var_2 = float(request.form['reading score'])\n",
    "    var_3 = float(request.form['writing score'])\n",
    "\n",
    "    # Create an array of input data\n",
    "    input_data = np.array([[var_1, var_2, var_3]])\n",
    "\n",
    "    # Make a prediction using the model\n",
    "    prediction = model.predict(input_data)\n",
    "\n",
    "    # Map prediction result to human-readable text\n",
    "    result = prediction[0]\n",
    "\n",
    "    return render_template('index.html', prediction=result)\n",
    "\n",
    "if __name__ == '__main__':\n",
    "    app.run(debug=True)"
   ]
  },
  {
   "cell_type": "code",
   "execution_count": null,
   "id": "4fff5e94-69f4-43e7-9266-493cab62284b",
   "metadata": {},
   "outputs": [],
   "source": []
  }
 ],
 "metadata": {
  "kernelspec": {
   "display_name": "Python 3 (ipykernel)",
   "language": "python",
   "name": "python3"
  },
  "language_info": {
   "codemirror_mode": {
    "name": "ipython",
    "version": 3
   },
   "file_extension": ".py",
   "mimetype": "text/x-python",
   "name": "python",
   "nbconvert_exporter": "python",
   "pygments_lexer": "ipython3",
   "version": "3.12.4"
  }
 },
 "nbformat": 4,
 "nbformat_minor": 5
}
